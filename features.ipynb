{
 "cells": [
  {
   "cell_type": "markdown",
   "metadata": {},
   "source": [
    "# Feature Engineering Jupyter Notebook"
   ]
  },
  {
   "cell_type": "code",
   "execution_count": 39,
   "metadata": {},
   "outputs": [],
   "source": [
    "# Importing Packages\n",
    "import numpy as np\n",
    "import pandas as pd"
   ]
  },
  {
   "cell_type": "code",
   "execution_count": 40,
   "metadata": {},
   "outputs": [],
   "source": [
    "# Reading data\n",
    "df_train = pd.read_csv('data/train_logs.csv', \n",
    "                 header=0)\n",
    "df_test = pd.read_csv('data/test_logs.csv', \n",
    "                 header=0)"
   ]
  },
  {
   "cell_type": "code",
   "execution_count": 41,
   "metadata": {},
   "outputs": [],
   "source": [
    "def word_grouping(df):\n",
    "    \n",
    "    # Initialize columns for word beginnings and endings\n",
    "    df['word_begin'] = 0\n",
    "    df['word_end'] = 0\n",
    "\n",
    "    # The first input starts a word\n",
    "    if df.iloc[0]['activity'] == 'Input':\n",
    "        df.at[0, 'word_begin'] = 1\n",
    "\n",
    "    # Vectorized identification of word boundaries\n",
    "    df['word_begin'] = ((df['activity'] == 'Input') & (df['activity'].shift(1) == 'Space')).astype(int)\n",
    "    df['word_end'] = ((df['activity'] == 'Space') & (df['activity'].shift(-1) == 'Input')).astype(int)\n",
    "\n",
    "    # Handle edge case for the last word\n",
    "    if df.iloc[-1]['activity'] == 'Input':\n",
    "        df.at[df.index[-1], 'word_end'] = 1\n",
    "        \n",
    "    return df\n"
   ]
  },
  {
   "cell_type": "code",
   "execution_count": 34,
   "metadata": {},
   "outputs": [],
   "source": [
    "def compute_iw_iki(df):\n",
    "    # Calculate the IKI for all events\n",
    "    df['iki'] = df['down_time'].diff().fillna(0)\n",
    "\n",
    "    # Initialize columns for intra-word IKI and inter-word IKI with NaN\n",
    "    df['intra_word_iki'] = np.nan\n",
    "    df['inter_word_iki'] = np.nan\n",
    "    \n",
    "    # Track the state of being within a word\n",
    "    within_word = False\n",
    "\n",
    "    for i in range(1, len(df)):\n",
    "        if df.at[i, 'word_begin'] == 1:\n",
    "            within_word = True\n",
    "            continue  # We do not consider the IKI at the start of a word as intra-word IKI\n",
    "        \n",
    "        if df.at[i-1, 'word_end'] == 1:\n",
    "            within_word = False\n",
    "            # The IKI at the end of a word is considered as inter-word IKI\n",
    "            df.at[i, 'inter_word_iki'] = df.at[i, 'iki']\n",
    "            continue\n",
    "\n",
    "        if within_word:\n",
    "            # We are within a word\n",
    "            df.at[i, 'intra_word_iki'] = df.at[i, 'iki']\n",
    "        else:\n",
    "            # We are between words\n",
    "            df.at[i, 'inter_word_iki'] = df.at[i, 'iki']\n",
    "\n",
    "    return df\n"
   ]
  },
  {
   "cell_type": "code",
   "execution_count": 21,
   "metadata": {},
   "outputs": [],
   "source": []
  },
  {
   "cell_type": "code",
   "execution_count": 22,
   "metadata": {},
   "outputs": [],
   "source": []
  },
  {
   "cell_type": "code",
   "execution_count": 42,
   "metadata": {},
   "outputs": [],
   "source": [
    "def iki_features(df):\n",
    "    \n",
    "    # Grouping the data into words\n",
    "    df = word_grouping(df)\n",
    "    \n",
    "    # BASIC FEATURES\n",
    "    # Create a DataFrame to store the features with a single column of IDs\n",
    "    features = pd.DataFrame({'id': df['id'].unique()})\n",
    "\n",
    "    # Computing the interkeystroke interval (IKI)\n",
    "    iki = df.groupby('id')['down_time'].diff().fillna(0)\n",
    "\n",
    "    # Computing mean, median, standard, and maximum IKI\n",
    "    mean_iki = iki.groupby(df['id']).mean().reset_index()\n",
    "    mean_iki.columns = ['id', 'mean_iki']\n",
    "\n",
    "    median_iki = iki.groupby(df['id']).median().reset_index()\n",
    "    median_iki.columns = ['id', 'median_iki']\n",
    "\n",
    "    std_iki = iki.groupby(df['id']).std().reset_index()\n",
    "    std_iki.columns = ['id', 'std_iki']\n",
    "\n",
    "    max_iki = iki.groupby(df['id']).max().reset_index()\n",
    "    max_iki.columns = ['id', 'max_iki']\n",
    "\n",
    "    # Merge with features DataFrame\n",
    "    features = features.merge(mean_iki, on='id', how='left')\n",
    "    features = features.merge(median_iki, on='id', how='left')\n",
    "    features = features.merge(std_iki, on='id', how='left')\n",
    "    features = features.merge(max_iki, on='id', how='left')\n",
    "\n",
    "    # ADVANCED FEATURES\n",
    "    df = compute_iw_iki(df)\n",
    "    \n",
    "    # Computing mean, median, standard, and maximum intra-word and inter-word IKI\n",
    "    mean_intra_word_iki = df.groupby('id')['intra_word_iki'].mean().reset_index()\n",
    "    mean_intra_word_iki.columns = ['id', 'mean_intra_word_iki']\n",
    "\n",
    "    mean_inter_word_iki = df.groupby('id')['inter_word_iki'].mean().reset_index()\n",
    "    mean_inter_word_iki.columns = ['id', 'mean_inter_word_iki']\n",
    "    \n",
    "    median_intra_word_iki = df.groupby('id')['intra_word_iki'].median().reset_index()\n",
    "    median_intra_word_iki.columns = ['id', 'median_intra_word_iki']\n",
    "\n",
    "    median_inter_word_iki = df.groupby('id')['inter_word_iki'].median().reset_index()\n",
    "    median_inter_word_iki.columns = ['id', 'median_inter_word_iki']\n",
    "    \n",
    "    std_intra_word_iki = df.groupby('id')['intra_word_iki'].std().reset_index()\n",
    "    std_intra_word_iki.columns = ['id', 'std_intra_word_iki']\n",
    "\n",
    "    std_inter_word_iki = df.groupby('id')['inter_word_iki'].std().reset_index()\n",
    "    std_inter_word_iki.columns = ['id', 'std_inter_word_iki']\n",
    "    \n",
    "    max_intra_word_iki = df.groupby('id')['intra_word_iki'].max().reset_index()\n",
    "    max_intra_word_iki.columns = ['id', 'max_intra_word_iki']\n",
    "\n",
    "    max_inter_word_iki = df.groupby('id')['inter_word_iki'].max().reset_index()\n",
    "    max_inter_word_iki.columns = ['id', 'max_inter_word_iki']\n",
    "    \n",
    "    # Merge the advanced features with the features DataFrame\n",
    "    features = features.merge(mean_intra_word_iki, on='id', how='left')\n",
    "    features = features.merge(mean_inter_word_iki, on='id', how='left')\n",
    "    features = features.merge(median_intra_word_iki, on='id', how='left')\n",
    "    features = features.merge(median_inter_word_iki, on='id', how='left')\n",
    "    features = features.merge(std_intra_word_iki, on='id', how='left')\n",
    "    features = features.merge(std_inter_word_iki, on='id', how='left')\n",
    "    features = features.merge(max_intra_word_iki, on='id', how='left')\n",
    "    features = features.merge(max_inter_word_iki, on='id', how='left')\n",
    "    \n",
    "    return features\n"
   ]
  },
  {
   "cell_type": "code",
   "execution_count": 43,
   "metadata": {},
   "outputs": [
    {
     "ename": "KeyError",
     "evalue": "'Column not found: intraw_iki'",
     "output_type": "error",
     "traceback": [
      "\u001b[0;31m---------------------------------------------------------------------------\u001b[0m",
      "\u001b[0;31mKeyError\u001b[0m                                  Traceback (most recent call last)",
      "\u001b[1;32m/Users/calder/Documents/kaggle-competition/features.ipynb Cell 9\u001b[0m line \u001b[0;36m1\n\u001b[0;32m----> <a href='vscode-notebook-cell:/Users/calder/Documents/kaggle-competition/features.ipynb#W6sZmlsZQ%3D%3D?line=0'>1</a>\u001b[0m features \u001b[39m=\u001b[39m iki_features(df_train)\n",
      "\u001b[1;32m/Users/calder/Documents/kaggle-competition/features.ipynb Cell 9\u001b[0m line \u001b[0;36m3\n\u001b[1;32m     <a href='vscode-notebook-cell:/Users/calder/Documents/kaggle-competition/features.ipynb#W6sZmlsZQ%3D%3D?line=34'>35</a>\u001b[0m df \u001b[39m=\u001b[39m compute_iw_iki(df)\n\u001b[1;32m     <a href='vscode-notebook-cell:/Users/calder/Documents/kaggle-competition/features.ipynb#W6sZmlsZQ%3D%3D?line=36'>37</a>\u001b[0m \u001b[39m# Computing mean, median, standard, and maximum intra-word and inter-word IKI\u001b[39;00m\n\u001b[0;32m---> <a href='vscode-notebook-cell:/Users/calder/Documents/kaggle-competition/features.ipynb#W6sZmlsZQ%3D%3D?line=37'>38</a>\u001b[0m mean_intraw_iki \u001b[39m=\u001b[39m df\u001b[39m.\u001b[39;49mgroupby(\u001b[39m'\u001b[39;49m\u001b[39mid\u001b[39;49m\u001b[39m'\u001b[39;49m)[\u001b[39m'\u001b[39;49m\u001b[39mintraw_iki\u001b[39;49m\u001b[39m'\u001b[39;49m]\u001b[39m.\u001b[39mmean()\u001b[39m.\u001b[39mreset_index()\n\u001b[1;32m     <a href='vscode-notebook-cell:/Users/calder/Documents/kaggle-competition/features.ipynb#W6sZmlsZQ%3D%3D?line=38'>39</a>\u001b[0m mean_intraw_iki\u001b[39m.\u001b[39mcolumns \u001b[39m=\u001b[39m [\u001b[39m'\u001b[39m\u001b[39mid\u001b[39m\u001b[39m'\u001b[39m, \u001b[39m'\u001b[39m\u001b[39mmean_intraw_iki\u001b[39m\u001b[39m'\u001b[39m]\n\u001b[1;32m     <a href='vscode-notebook-cell:/Users/calder/Documents/kaggle-competition/features.ipynb#W6sZmlsZQ%3D%3D?line=39'>40</a>\u001b[0m mean_interw_iki \u001b[39m=\u001b[39m df\u001b[39m.\u001b[39mgroupby(\u001b[39m'\u001b[39m\u001b[39mid\u001b[39m\u001b[39m'\u001b[39m)[\u001b[39m'\u001b[39m\u001b[39minterw_iki\u001b[39m\u001b[39m'\u001b[39m]\u001b[39m.\u001b[39mmean()\u001b[39m.\u001b[39mreset_index()\n",
      "File \u001b[0;32m~/miniconda3/envs/ML/lib/python3.12/site-packages/pandas/core/groupby/generic.py:1961\u001b[0m, in \u001b[0;36mDataFrameGroupBy.__getitem__\u001b[0;34m(self, key)\u001b[0m\n\u001b[1;32m   1954\u001b[0m \u001b[39mif\u001b[39;00m \u001b[39misinstance\u001b[39m(key, \u001b[39mtuple\u001b[39m) \u001b[39mand\u001b[39;00m \u001b[39mlen\u001b[39m(key) \u001b[39m>\u001b[39m \u001b[39m1\u001b[39m:\n\u001b[1;32m   1955\u001b[0m     \u001b[39m# if len == 1, then it becomes a SeriesGroupBy and this is actually\u001b[39;00m\n\u001b[1;32m   1956\u001b[0m     \u001b[39m# valid syntax, so don't raise\u001b[39;00m\n\u001b[1;32m   1957\u001b[0m     \u001b[39mraise\u001b[39;00m \u001b[39mValueError\u001b[39;00m(\n\u001b[1;32m   1958\u001b[0m         \u001b[39m\"\u001b[39m\u001b[39mCannot subset columns with a tuple with more than one element. \u001b[39m\u001b[39m\"\u001b[39m\n\u001b[1;32m   1959\u001b[0m         \u001b[39m\"\u001b[39m\u001b[39mUse a list instead.\u001b[39m\u001b[39m\"\u001b[39m\n\u001b[1;32m   1960\u001b[0m     )\n\u001b[0;32m-> 1961\u001b[0m \u001b[39mreturn\u001b[39;00m \u001b[39msuper\u001b[39;49m()\u001b[39m.\u001b[39;49m\u001b[39m__getitem__\u001b[39;49m(key)\n",
      "File \u001b[0;32m~/miniconda3/envs/ML/lib/python3.12/site-packages/pandas/core/base.py:244\u001b[0m, in \u001b[0;36mSelectionMixin.__getitem__\u001b[0;34m(self, key)\u001b[0m\n\u001b[1;32m    242\u001b[0m \u001b[39melse\u001b[39;00m:\n\u001b[1;32m    243\u001b[0m     \u001b[39mif\u001b[39;00m key \u001b[39mnot\u001b[39;00m \u001b[39min\u001b[39;00m \u001b[39mself\u001b[39m\u001b[39m.\u001b[39mobj:\n\u001b[0;32m--> 244\u001b[0m         \u001b[39mraise\u001b[39;00m \u001b[39mKeyError\u001b[39;00m(\u001b[39mf\u001b[39m\u001b[39m\"\u001b[39m\u001b[39mColumn not found: \u001b[39m\u001b[39m{\u001b[39;00mkey\u001b[39m}\u001b[39;00m\u001b[39m\"\u001b[39m)\n\u001b[1;32m    245\u001b[0m     ndim \u001b[39m=\u001b[39m \u001b[39mself\u001b[39m\u001b[39m.\u001b[39mobj[key]\u001b[39m.\u001b[39mndim\n\u001b[1;32m    246\u001b[0m     \u001b[39mreturn\u001b[39;00m \u001b[39mself\u001b[39m\u001b[39m.\u001b[39m_gotitem(key, ndim\u001b[39m=\u001b[39mndim)\n",
      "\u001b[0;31mKeyError\u001b[0m: 'Column not found: intraw_iki'"
     ]
    }
   ],
   "source": [
    "features = iki_features(df_train)"
   ]
  },
  {
   "cell_type": "code",
   "execution_count": null,
   "metadata": {},
   "outputs": [
    {
     "name": "stdout",
     "output_type": "stream",
     "text": [
      "            id    mean_iki  median_iki      std_iki   max_iki  \\\n",
      "0     001519c8  702.913962       151.0  4295.447374  154173.0   \n",
      "1     0022f953  716.470660       160.0  4894.385161  145968.0   \n",
      "2     0042269b  427.170696        94.0  3939.226278  153955.0   \n",
      "3     0059420b  875.963368       256.0  4247.568454  101808.0   \n",
      "4     0075873a  625.807981       166.0  3896.405072  110824.0   \n",
      "...        ...         ...         ...          ...       ...   \n",
      "2466  ffb8c745  373.309559       118.0  3457.675123  128628.0   \n",
      "2467  ffbef7e5  682.562212       258.0  5632.013483  268008.0   \n",
      "2468  ffccd6fd  631.991838       207.0  5399.385611  229911.0   \n",
      "2469  ffec5b38  459.114744       168.0  3460.439398  127799.0   \n",
      "2470  fff05981  561.021829       169.0  2987.199508  137693.0   \n",
      "\n",
      "      mean_intraw_iki  mean_interw_iki  median_intraw_iki  median_interw_iki  \\\n",
      "0                 NaN              NaN                NaN                NaN   \n",
      "1                 NaN              NaN                NaN                NaN   \n",
      "2                 NaN              NaN                NaN                NaN   \n",
      "3                 NaN              NaN                NaN                NaN   \n",
      "4                 NaN              NaN                NaN                NaN   \n",
      "...               ...              ...                ...                ...   \n",
      "2466              NaN              NaN                NaN                NaN   \n",
      "2467              NaN              NaN                NaN                NaN   \n",
      "2468              NaN              NaN                NaN                NaN   \n",
      "2469              NaN              NaN                NaN                NaN   \n",
      "2470              NaN              NaN                NaN                NaN   \n",
      "\n",
      "      std_intraw_iki  std_interw_iki  max_intraw_iki  max_interw_iki  \n",
      "0                NaN             NaN             NaN             NaN  \n",
      "1                NaN             NaN             NaN             NaN  \n",
      "2                NaN             NaN             NaN             NaN  \n",
      "3                NaN             NaN             NaN             NaN  \n",
      "4                NaN             NaN             NaN             NaN  \n",
      "...              ...             ...             ...             ...  \n",
      "2466             NaN             NaN             NaN             NaN  \n",
      "2467             NaN             NaN             NaN             NaN  \n",
      "2468             NaN             NaN             NaN             NaN  \n",
      "2469             NaN             NaN             NaN             NaN  \n",
      "2470             NaN             NaN             NaN             NaN  \n",
      "\n",
      "[2471 rows x 13 columns]\n"
     ]
    }
   ],
   "source": [
    "print(features)"
   ]
  },
  {
   "cell_type": "code",
   "execution_count": 33,
   "metadata": {},
   "outputs": [
    {
     "name": "stdout",
     "output_type": "stream",
     "text": [
      "Empty DataFrame\n",
      "Columns: [id, mean_iki, median_iki, std_iki, max_iki, mean_intraw_iki, mean_interw_iki, median_intraw_iki, median_interw_iki, std_intraw_iki, std_interw_iki, max_intraw_iki, max_interw_iki]\n",
      "Index: []\n"
     ]
    }
   ],
   "source": [
    "# Find where median_intraw_iki isnt null\n",
    "print(features[features['median_intraw_iki'].notnull()])"
   ]
  },
  {
   "cell_type": "code",
   "execution_count": null,
   "metadata": {},
   "outputs": [],
   "source": []
  }
 ],
 "metadata": {
  "kernelspec": {
   "display_name": "ML",
   "language": "python",
   "name": "python3"
  },
  "language_info": {
   "codemirror_mode": {
    "name": "ipython",
    "version": 3
   },
   "file_extension": ".py",
   "mimetype": "text/x-python",
   "name": "python",
   "nbconvert_exporter": "python",
   "pygments_lexer": "ipython3",
   "version": "3.12.0"
  }
 },
 "nbformat": 4,
 "nbformat_minor": 2
}
