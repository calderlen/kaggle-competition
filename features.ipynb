{
 "cells": [
  {
   "cell_type": "markdown",
   "metadata": {},
   "source": [
    "# Feature Engineering Jupyter Notebook"
   ]
  },
  {
   "cell_type": "code",
   "execution_count": 39,
   "metadata": {},
   "outputs": [],
   "source": [
    "# Importing Packages\n",
    "import numpy as np\n",
    "import pandas as pd"
   ]
  },
  {
   "cell_type": "code",
   "execution_count": 40,
   "metadata": {},
   "outputs": [],
   "source": [
    "# Reading data\n",
    "df_train = pd.read_csv('data/train_logs.csv', \n",
    "                 header=0)\n",
    "df_test = pd.read_csv('data/test_logs.csv', \n",
    "                 header=0)"
   ]
  },
  {
   "cell_type": "code",
   "execution_count": 41,
   "metadata": {},
   "outputs": [],
   "source": [
    "def word_grouping(df):\n",
    "    \n",
    "    # Initialize columns for word beginnings and endings\n",
    "    df['word_begin'] = 0\n",
    "    df['word_end'] = 0\n",
    "\n",
    "    # The first input starts a word\n",
    "    if df.iloc[0]['activity'] == 'Input':\n",
    "        df.at[0, 'word_begin'] = 1\n",
    "\n",
    "    # Vectorized identification of word boundaries\n",
    "    df['word_begin'] = ((df['activity'] == 'Input') & (df['activity'].shift(1) == 'Space')).astype(int)\n",
    "    df['word_end'] = ((df['activity'] == 'Space') & (df['activity'].shift(-1) == 'Input')).astype(int)\n",
    "\n",
    "    # Handle edge case for the last word\n",
    "    if df.iloc[-1]['activity'] == 'Input':\n",
    "        df.at[df.index[-1], 'word_end'] = 1\n",
    "        \n",
    "    return df\n"
   ]
  },
  {
   "cell_type": "code",
   "execution_count": 34,
   "metadata": {},
   "outputs": [],
   "source": [
    "def compute_iw_iki(df):\n",
    "    # Calculate the IKI for all events\n",
    "    df['iki'] = df['down_time'].diff().fillna(0)\n",
    "\n",
    "    # Initialize columns for intra-word IKI and inter-word IKI with NaN\n",
    "    df['intra_word_iki'] = np.nan\n",
    "    df['inter_word_iki'] = np.nan\n",
    "    \n",
    "    # Track the state of being within a word\n",
    "    within_word = False\n",
    "\n",
    "    for i in range(1, len(df)):\n",
    "        if df.at[i, 'word_begin'] == 1:\n",
    "            within_word = True\n",
    "            continue  # We do not consider the IKI at the start of a word as intra-word IKI\n",
    "        \n",
    "        if df.at[i-1, 'word_end'] == 1:\n",
    "            within_word = False\n",
    "            # The IKI at the end of a word is considered as inter-word IKI\n",
    "            df.at[i, 'inter_word_iki'] = df.at[i, 'iki']\n",
    "            continue\n",
    "\n",
    "        if within_word:\n",
    "            # We are within a word\n",
    "            df.at[i, 'intra_word_iki'] = df.at[i, 'iki']\n",
    "        else:\n",
    "            # We are between words\n",
    "            df.at[i, 'inter_word_iki'] = df.at[i, 'iki']\n",
    "\n",
    "    return df\n"
   ]
  },
  {
   "cell_type": "code",
   "execution_count": 21,
   "metadata": {},
   "outputs": [],
   "source": [
    "def compute_intra_word_iki(df):\n",
    "    # Assuming that 'down_time' is the column with the timestamp of the keypress\n",
    "    # and 'word_begin' indicates the start of a new word and 'word_end' indicates the end of a word.\n",
    "    \n",
    "    # Calculate the IKI for all events\n",
    "    df['iki'] = df['down_time'].diff().fillna(0)\n",
    "    \n",
    "    # Initialize a new column for intra-word IKI with NaN\n",
    "    df['intraw_iki'] = np.nan\n",
    "    \n",
    "    # Flag to indicate if we are within a word\n",
    "    in_word = False\n",
    "    \n",
    "    # Iterate over the rows\n",
    "    for i in range(len(df)):\n",
    "        if df.at[i, 'word_begin'] == 1:\n",
    "            in_word = True\n",
    "            # The first keystroke of a word does not have a preceding keystroke within the same word\n",
    "            continue\n",
    "        \n",
    "        if df.at[i, 'word_end'] == 1:\n",
    "            in_word = False\n",
    "            # The last keystroke of a word does not have a following keystroke within the same word\n",
    "        \n",
    "        # If we are within a word, copy the IKI value\n",
    "        if in_word:\n",
    "            df.at[i, 'intraw_iki'] = df.at[i, 'iki']\n",
    "            \n",
    "    return df\n"
   ]
  },
  {
   "cell_type": "code",
   "execution_count": 22,
   "metadata": {},
   "outputs": [],
   "source": [
    "def compute_inter_word_iki(df):\n",
    "    # Initialize a new column for intra-word IKI with NaN\n",
    "    df['interw_iki'] = np.nan\n",
    "    \n",
    "    # Flag to indicate if we are within a word\n",
    "    between_word = False\n",
    "    \n",
    "    # Iterate over the rows\n",
    "    for i in range(len(df)):\n",
    "        if df.at[i, 'word_end'] == 1:\n",
    "            between_word = True\n",
    "            continue\n",
    "        \n",
    "        if df.at[i, 'word_begin'] == 1:\n",
    "            between_word = False\n",
    "        \n",
    "        # If we are between a word, copy the IKI value\n",
    "        if between_word:\n",
    "            df.at[i, 'interw_iki'] = df.at[i, 'iki']\n",
    "            \n",
    "    return df\n"
   ]
  },
  {
   "cell_type": "code",
   "execution_count": 42,
   "metadata": {},
   "outputs": [],
   "source": [
    "def iki_features(df):\n",
    "    \n",
    "    # Grouping the data into words\n",
    "    df = word_grouping(df)\n",
    "    \n",
    "    # BASIC FEATURES\n",
    "\n",
    "    # Create a DataFrame to store the features with a single column of IDs\n",
    "    features = pd.DataFrame({'id': df['id'].unique()})\n",
    "\n",
    "    # Computing the interkeystroke interval (IKI)\n",
    "    iki = df.groupby('id')['down_time'].diff().fillna(0)\n",
    "\n",
    "    # Computing mean, median, standard, and maximum IKI\n",
    "    mean_iki = iki.groupby(df['id']).mean().reset_index()\n",
    "    mean_iki.columns = ['id', 'mean_iki']\n",
    "\n",
    "    median_iki = iki.groupby(df['id']).median().reset_index()\n",
    "    median_iki.columns = ['id', 'median_iki']\n",
    "\n",
    "    std_iki = iki.groupby(df['id']).std().reset_index()\n",
    "    std_iki.columns = ['id', 'std_iki']\n",
    "\n",
    "    max_iki = iki.groupby(df['id']).max().reset_index()\n",
    "    max_iki.columns = ['id', 'max_iki']\n",
    "\n",
    "    # Merge with features DataFrame\n",
    "    features = features.merge(mean_iki, on='id', how='left')\n",
    "    features = features.merge(median_iki, on='id', how='left')\n",
    "    features = features.merge(std_iki, on='id', how='left')\n",
    "    features = features.merge(max_iki, on='id', how='left')\n",
    "\n",
    "\n",
    "    # ADVANCED FEATURES\n",
    "    df = compute_iw_iki(df)\n",
    "    \n",
    "    # Computing mean, median, standard, and maximum intra-word and inter-word IKI\n",
    "    mean_intraw_iki = df.groupby('id')['intraw_iki'].mean().reset_index()\n",
    "    mean_intraw_iki.columns = ['id', 'mean_intraw_iki']\n",
    "    mean_interw_iki = df.groupby('id')['interw_iki'].mean().reset_index()\n",
    "    mean_interw_iki.columns = ['id', 'mean_interw_iki']\n",
    "    \n",
    "    median_intraw_iki = df.groupby('id')['intraw_iki'].median().reset_index()\n",
    "    median_intraw_iki.columns = ['id', 'median_intraw_iki']\n",
    "    median_interw_iki = df.groupby('id')['interw_iki'].median().reset_index()\n",
    "    median_interw_iki.columns = ['id', 'median_interw_iki']\n",
    "    \n",
    "    std_intraw_iki = df.groupby('id')['intraw_iki'].std().reset_index()\n",
    "    std_intraw_iki.columns = ['id', 'std_intraw_iki']\n",
    "    std_interw_iki = df.groupby('id')['interw_iki'].std().reset_index()\n",
    "    std_interw_iki.columns = ['id', 'std_interw_iki']\n",
    "    \n",
    "    max_intraw_iki = df.groupby('id')['intraw_iki'].max().reset_index()\n",
    "    max_intraw_iki.columns = ['id', 'max_intraw_iki']\n",
    "    max_interw_iki = df.groupby('id')['interw_iki'].max().reset_index()\n",
    "    max_interw_iki.columns = ['id', 'max_interw_iki']\n",
    "    \n",
    "    features = features.merge(mean_intraw_iki, on='id', how='left')\n",
    "    features = features.merge(mean_interw_iki, on='id', how='left')\n",
    "    features = features.merge(median_intraw_iki, on='id', how='left')\n",
    "    features = features.merge(median_interw_iki, on='id', how='left')\n",
    "    features = features.merge(std_intraw_iki, on='id', how='left')\n",
    "    features = features.merge(std_interw_iki, on='id', how='left')\n",
    "    features = features.merge(max_intraw_iki, on='id', how='left')\n",
    "    features = features.merge(max_interw_iki, on='id', how='left')\n",
    "    \n",
    "    return features\n",
    "    "
   ]
  },
  {
   "cell_type": "code",
   "execution_count": 43,
   "metadata": {},
   "outputs": [],
   "source": [
    "features = iki_features(df_train)"
   ]
  },
  {
   "cell_type": "code",
   "execution_count": null,
   "metadata": {},
   "outputs": [
    {
     "name": "stdout",
     "output_type": "stream",
     "text": [
      "            id    mean_iki  median_iki      std_iki   max_iki  \\\n",
      "0     001519c8  702.913962       151.0  4295.447374  154173.0   \n",
      "1     0022f953  716.470660       160.0  4894.385161  145968.0   \n",
      "2     0042269b  427.170696        94.0  3939.226278  153955.0   \n",
      "3     0059420b  875.963368       256.0  4247.568454  101808.0   \n",
      "4     0075873a  625.807981       166.0  3896.405072  110824.0   \n",
      "...        ...         ...         ...          ...       ...   \n",
      "2466  ffb8c745  373.309559       118.0  3457.675123  128628.0   \n",
      "2467  ffbef7e5  682.562212       258.0  5632.013483  268008.0   \n",
      "2468  ffccd6fd  631.991838       207.0  5399.385611  229911.0   \n",
      "2469  ffec5b38  459.114744       168.0  3460.439398  127799.0   \n",
      "2470  fff05981  561.021829       169.0  2987.199508  137693.0   \n",
      "\n",
      "      mean_intraw_iki  mean_interw_iki  median_intraw_iki  median_interw_iki  \\\n",
      "0                 NaN              NaN                NaN                NaN   \n",
      "1                 NaN              NaN                NaN                NaN   \n",
      "2                 NaN              NaN                NaN                NaN   \n",
      "3                 NaN              NaN                NaN                NaN   \n",
      "4                 NaN              NaN                NaN                NaN   \n",
      "...               ...              ...                ...                ...   \n",
      "2466              NaN              NaN                NaN                NaN   \n",
      "2467              NaN              NaN                NaN                NaN   \n",
      "2468              NaN              NaN                NaN                NaN   \n",
      "2469              NaN              NaN                NaN                NaN   \n",
      "2470              NaN              NaN                NaN                NaN   \n",
      "\n",
      "      std_intraw_iki  std_interw_iki  max_intraw_iki  max_interw_iki  \n",
      "0                NaN             NaN             NaN             NaN  \n",
      "1                NaN             NaN             NaN             NaN  \n",
      "2                NaN             NaN             NaN             NaN  \n",
      "3                NaN             NaN             NaN             NaN  \n",
      "4                NaN             NaN             NaN             NaN  \n",
      "...              ...             ...             ...             ...  \n",
      "2466             NaN             NaN             NaN             NaN  \n",
      "2467             NaN             NaN             NaN             NaN  \n",
      "2468             NaN             NaN             NaN             NaN  \n",
      "2469             NaN             NaN             NaN             NaN  \n",
      "2470             NaN             NaN             NaN             NaN  \n",
      "\n",
      "[2471 rows x 13 columns]\n"
     ]
    }
   ],
   "source": [
    "print(features)"
   ]
  },
  {
   "cell_type": "code",
   "execution_count": 33,
   "metadata": {},
   "outputs": [
    {
     "name": "stdout",
     "output_type": "stream",
     "text": [
      "Empty DataFrame\n",
      "Columns: [id, mean_iki, median_iki, std_iki, max_iki, mean_intraw_iki, mean_interw_iki, median_intraw_iki, median_interw_iki, std_intraw_iki, std_interw_iki, max_intraw_iki, max_interw_iki]\n",
      "Index: []\n"
     ]
    }
   ],
   "source": [
    "# Find where median_intraw_iki isnt null\n",
    "print(features[features['median_intraw_iki'].notnull()])"
   ]
  },
  {
   "cell_type": "code",
   "execution_count": null,
   "metadata": {},
   "outputs": [],
   "source": []
  }
 ],
 "metadata": {
  "kernelspec": {
   "display_name": "ML",
   "language": "python",
   "name": "python3"
  },
  "language_info": {
   "codemirror_mode": {
    "name": "ipython",
    "version": 3
   },
   "file_extension": ".py",
   "mimetype": "text/x-python",
   "name": "python",
   "nbconvert_exporter": "python",
   "pygments_lexer": "ipython3",
   "version": "3.12.0"
  }
 },
 "nbformat": 4,
 "nbformat_minor": 2
}
